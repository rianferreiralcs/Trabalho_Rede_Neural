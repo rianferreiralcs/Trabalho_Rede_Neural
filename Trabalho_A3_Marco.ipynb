{
 "cells": [
  {
   "cell_type": "code",
   "execution_count": 95,
   "id": "4741a23d-4d94-4f38-b1a9-ef0b26c35a5a",
   "metadata": {},
   "outputs": [],
   "source": [
    "import pandas as pd\n",
    "import numpy as np"
   ]
  },
  {
   "cell_type": "code",
   "execution_count": 96,
   "id": "cdb0318e-41bd-46ac-a866-52b67b6b19fd",
   "metadata": {},
   "outputs": [
    {
     "data": {
      "text/html": [
       "<div>\n",
       "<style scoped>\n",
       "    .dataframe tbody tr th:only-of-type {\n",
       "        vertical-align: middle;\n",
       "    }\n",
       "\n",
       "    .dataframe tbody tr th {\n",
       "        vertical-align: top;\n",
       "    }\n",
       "\n",
       "    .dataframe thead th {\n",
       "        text-align: right;\n",
       "    }\n",
       "</style>\n",
       "<table border=\"1\" class=\"dataframe\">\n",
       "  <thead>\n",
       "    <tr style=\"text-align: right;\">\n",
       "      <th></th>\n",
       "      <th>gender</th>\n",
       "      <th>age</th>\n",
       "      <th>hypertension</th>\n",
       "      <th>heart_disease</th>\n",
       "      <th>smoking_history</th>\n",
       "      <th>bmi</th>\n",
       "      <th>HbA1c_level</th>\n",
       "      <th>blood_glucose_level</th>\n",
       "      <th>diabetes</th>\n",
       "    </tr>\n",
       "  </thead>\n",
       "  <tbody>\n",
       "    <tr>\n",
       "      <th>0</th>\n",
       "      <td>Female</td>\n",
       "      <td>80.0</td>\n",
       "      <td>0</td>\n",
       "      <td>1</td>\n",
       "      <td>never</td>\n",
       "      <td>25.19</td>\n",
       "      <td>6.6</td>\n",
       "      <td>140</td>\n",
       "      <td>0</td>\n",
       "    </tr>\n",
       "    <tr>\n",
       "      <th>1</th>\n",
       "      <td>Female</td>\n",
       "      <td>54.0</td>\n",
       "      <td>0</td>\n",
       "      <td>0</td>\n",
       "      <td>No Info</td>\n",
       "      <td>27.32</td>\n",
       "      <td>6.6</td>\n",
       "      <td>80</td>\n",
       "      <td>0</td>\n",
       "    </tr>\n",
       "    <tr>\n",
       "      <th>2</th>\n",
       "      <td>Male</td>\n",
       "      <td>28.0</td>\n",
       "      <td>0</td>\n",
       "      <td>0</td>\n",
       "      <td>never</td>\n",
       "      <td>27.32</td>\n",
       "      <td>5.7</td>\n",
       "      <td>158</td>\n",
       "      <td>0</td>\n",
       "    </tr>\n",
       "    <tr>\n",
       "      <th>3</th>\n",
       "      <td>Female</td>\n",
       "      <td>36.0</td>\n",
       "      <td>0</td>\n",
       "      <td>0</td>\n",
       "      <td>current</td>\n",
       "      <td>23.45</td>\n",
       "      <td>5.0</td>\n",
       "      <td>155</td>\n",
       "      <td>0</td>\n",
       "    </tr>\n",
       "    <tr>\n",
       "      <th>4</th>\n",
       "      <td>Male</td>\n",
       "      <td>76.0</td>\n",
       "      <td>1</td>\n",
       "      <td>1</td>\n",
       "      <td>current</td>\n",
       "      <td>20.14</td>\n",
       "      <td>4.8</td>\n",
       "      <td>155</td>\n",
       "      <td>0</td>\n",
       "    </tr>\n",
       "  </tbody>\n",
       "</table>\n",
       "</div>"
      ],
      "text/plain": [
       "   gender   age  hypertension  heart_disease smoking_history    bmi  \\\n",
       "0  Female  80.0             0              1           never  25.19   \n",
       "1  Female  54.0             0              0         No Info  27.32   \n",
       "2    Male  28.0             0              0           never  27.32   \n",
       "3  Female  36.0             0              0         current  23.45   \n",
       "4    Male  76.0             1              1         current  20.14   \n",
       "\n",
       "   HbA1c_level  blood_glucose_level  diabetes  \n",
       "0          6.6                  140         0  \n",
       "1          6.6                   80         0  \n",
       "2          5.7                  158         0  \n",
       "3          5.0                  155         0  \n",
       "4          4.8                  155         0  "
      ]
     },
     "execution_count": 96,
     "metadata": {},
     "output_type": "execute_result"
    }
   ],
   "source": [
    "# Lê o arquivo CSV\n",
    "tabela = pd.read_csv('diabetes_prediction_dataset.csv')\n",
    "# Mostra as 5 primeiras linhas da tabela\n",
    "tabela.head()\n"
   ]
  },
  {
   "cell_type": "markdown",
   "id": "5a60385e-41dd-4701-a8a2-15e3bcc5c019",
   "metadata": {},
   "source": [
    "Ao analizarmos as primeiras linhas da tabela de dados que utilizaremos para treinar nosso modelo, nos deparamos com duas colunas que requerem especial atenção: gender e smoking_history.\n",
    "Ambas as colunas possuem valores não númericos e portanto devem ser tratadas antes da utilização.\n",
    "A coluna 'gender' pode ser tratada de maneira bem simples, como os possíveis valores são apenas dois (Male ou Female), podem facilmente ser mapeados para valores binários."
   ]
  },
  {
   "cell_type": "code",
   "execution_count": 97,
   "id": "45ed6932-7870-492f-83a8-24f2fc5103bd",
   "metadata": {},
   "outputs": [
    {
     "data": {
      "text/html": [
       "<div>\n",
       "<style scoped>\n",
       "    .dataframe tbody tr th:only-of-type {\n",
       "        vertical-align: middle;\n",
       "    }\n",
       "\n",
       "    .dataframe tbody tr th {\n",
       "        vertical-align: top;\n",
       "    }\n",
       "\n",
       "    .dataframe thead th {\n",
       "        text-align: right;\n",
       "    }\n",
       "</style>\n",
       "<table border=\"1\" class=\"dataframe\">\n",
       "  <thead>\n",
       "    <tr style=\"text-align: right;\">\n",
       "      <th></th>\n",
       "      <th>gender</th>\n",
       "      <th>age</th>\n",
       "      <th>hypertension</th>\n",
       "      <th>heart_disease</th>\n",
       "      <th>smoking_history</th>\n",
       "      <th>bmi</th>\n",
       "      <th>HbA1c_level</th>\n",
       "      <th>blood_glucose_level</th>\n",
       "      <th>diabetes</th>\n",
       "    </tr>\n",
       "  </thead>\n",
       "  <tbody>\n",
       "    <tr>\n",
       "      <th>0</th>\n",
       "      <td>1.0</td>\n",
       "      <td>80.0</td>\n",
       "      <td>0</td>\n",
       "      <td>1</td>\n",
       "      <td>never</td>\n",
       "      <td>25.19</td>\n",
       "      <td>6.6</td>\n",
       "      <td>140</td>\n",
       "      <td>0</td>\n",
       "    </tr>\n",
       "    <tr>\n",
       "      <th>1</th>\n",
       "      <td>1.0</td>\n",
       "      <td>54.0</td>\n",
       "      <td>0</td>\n",
       "      <td>0</td>\n",
       "      <td>No Info</td>\n",
       "      <td>27.32</td>\n",
       "      <td>6.6</td>\n",
       "      <td>80</td>\n",
       "      <td>0</td>\n",
       "    </tr>\n",
       "    <tr>\n",
       "      <th>2</th>\n",
       "      <td>0.0</td>\n",
       "      <td>28.0</td>\n",
       "      <td>0</td>\n",
       "      <td>0</td>\n",
       "      <td>never</td>\n",
       "      <td>27.32</td>\n",
       "      <td>5.7</td>\n",
       "      <td>158</td>\n",
       "      <td>0</td>\n",
       "    </tr>\n",
       "    <tr>\n",
       "      <th>3</th>\n",
       "      <td>1.0</td>\n",
       "      <td>36.0</td>\n",
       "      <td>0</td>\n",
       "      <td>0</td>\n",
       "      <td>current</td>\n",
       "      <td>23.45</td>\n",
       "      <td>5.0</td>\n",
       "      <td>155</td>\n",
       "      <td>0</td>\n",
       "    </tr>\n",
       "    <tr>\n",
       "      <th>4</th>\n",
       "      <td>0.0</td>\n",
       "      <td>76.0</td>\n",
       "      <td>1</td>\n",
       "      <td>1</td>\n",
       "      <td>current</td>\n",
       "      <td>20.14</td>\n",
       "      <td>4.8</td>\n",
       "      <td>155</td>\n",
       "      <td>0</td>\n",
       "    </tr>\n",
       "  </tbody>\n",
       "</table>\n",
       "</div>"
      ],
      "text/plain": [
       "   gender   age  hypertension  heart_disease smoking_history    bmi  \\\n",
       "0     1.0  80.0             0              1           never  25.19   \n",
       "1     1.0  54.0             0              0         No Info  27.32   \n",
       "2     0.0  28.0             0              0           never  27.32   \n",
       "3     1.0  36.0             0              0         current  23.45   \n",
       "4     0.0  76.0             1              1         current  20.14   \n",
       "\n",
       "   HbA1c_level  blood_glucose_level  diabetes  \n",
       "0          6.6                  140         0  \n",
       "1          6.6                   80         0  \n",
       "2          5.7                  158         0  \n",
       "3          5.0                  155         0  \n",
       "4          4.8                  155         0  "
      ]
     },
     "execution_count": 97,
     "metadata": {},
     "output_type": "execute_result"
    }
   ],
   "source": [
    "# Converte as informações da coluna gênero para um valor binário\n",
    "tabela['gender'] = tabela['gender'].map({'Female': 1, 'Male': 0})\n",
    "\n",
    "tabela.head()"
   ]
  },
  {
   "cell_type": "markdown",
   "id": "e51345df-6ed0-422b-9b3d-ef3d9f41141b",
   "metadata": {},
   "source": [
    "O segundo caso exige um pouco de maior cautela, a gama de valores presentes na coluna 'smoking_history' é maior, não é possível mapeá-los para valores binários.\n",
    "Os possíveis valores presentes nesta coluna são: never, former, current, not current e No Info.\n",
    "Todos estes valores, com exceção do último, devem ser mapeados para valores númericos."
   ]
  },
  {
   "cell_type": "code",
   "execution_count": 98,
   "id": "1a800124-8d99-4b1a-bd8d-5067c88b20aa",
   "metadata": {},
   "outputs": [
    {
     "data": {
      "text/html": [
       "<div>\n",
       "<style scoped>\n",
       "    .dataframe tbody tr th:only-of-type {\n",
       "        vertical-align: middle;\n",
       "    }\n",
       "\n",
       "    .dataframe tbody tr th {\n",
       "        vertical-align: top;\n",
       "    }\n",
       "\n",
       "    .dataframe thead th {\n",
       "        text-align: right;\n",
       "    }\n",
       "</style>\n",
       "<table border=\"1\" class=\"dataframe\">\n",
       "  <thead>\n",
       "    <tr style=\"text-align: right;\">\n",
       "      <th></th>\n",
       "      <th>gender</th>\n",
       "      <th>age</th>\n",
       "      <th>hypertension</th>\n",
       "      <th>heart_disease</th>\n",
       "      <th>smoking_history</th>\n",
       "      <th>bmi</th>\n",
       "      <th>HbA1c_level</th>\n",
       "      <th>blood_glucose_level</th>\n",
       "      <th>diabetes</th>\n",
       "    </tr>\n",
       "  </thead>\n",
       "  <tbody>\n",
       "    <tr>\n",
       "      <th>0</th>\n",
       "      <td>1.0</td>\n",
       "      <td>80.0</td>\n",
       "      <td>0</td>\n",
       "      <td>1</td>\n",
       "      <td>0.0</td>\n",
       "      <td>25.19</td>\n",
       "      <td>6.6</td>\n",
       "      <td>140</td>\n",
       "      <td>0</td>\n",
       "    </tr>\n",
       "    <tr>\n",
       "      <th>1</th>\n",
       "      <td>1.0</td>\n",
       "      <td>54.0</td>\n",
       "      <td>0</td>\n",
       "      <td>0</td>\n",
       "      <td>NaN</td>\n",
       "      <td>27.32</td>\n",
       "      <td>6.6</td>\n",
       "      <td>80</td>\n",
       "      <td>0</td>\n",
       "    </tr>\n",
       "    <tr>\n",
       "      <th>2</th>\n",
       "      <td>0.0</td>\n",
       "      <td>28.0</td>\n",
       "      <td>0</td>\n",
       "      <td>0</td>\n",
       "      <td>0.0</td>\n",
       "      <td>27.32</td>\n",
       "      <td>5.7</td>\n",
       "      <td>158</td>\n",
       "      <td>0</td>\n",
       "    </tr>\n",
       "    <tr>\n",
       "      <th>3</th>\n",
       "      <td>1.0</td>\n",
       "      <td>36.0</td>\n",
       "      <td>0</td>\n",
       "      <td>0</td>\n",
       "      <td>2.0</td>\n",
       "      <td>23.45</td>\n",
       "      <td>5.0</td>\n",
       "      <td>155</td>\n",
       "      <td>0</td>\n",
       "    </tr>\n",
       "    <tr>\n",
       "      <th>4</th>\n",
       "      <td>0.0</td>\n",
       "      <td>76.0</td>\n",
       "      <td>1</td>\n",
       "      <td>1</td>\n",
       "      <td>2.0</td>\n",
       "      <td>20.14</td>\n",
       "      <td>4.8</td>\n",
       "      <td>155</td>\n",
       "      <td>0</td>\n",
       "    </tr>\n",
       "  </tbody>\n",
       "</table>\n",
       "</div>"
      ],
      "text/plain": [
       "   gender   age  hypertension  heart_disease  smoking_history    bmi  \\\n",
       "0     1.0  80.0             0              1              0.0  25.19   \n",
       "1     1.0  54.0             0              0              NaN  27.32   \n",
       "2     0.0  28.0             0              0              0.0  27.32   \n",
       "3     1.0  36.0             0              0              2.0  23.45   \n",
       "4     0.0  76.0             1              1              2.0  20.14   \n",
       "\n",
       "   HbA1c_level  blood_glucose_level  diabetes  \n",
       "0          6.6                  140         0  \n",
       "1          6.6                   80         0  \n",
       "2          5.7                  158         0  \n",
       "3          5.0                  155         0  \n",
       "4          4.8                  155         0  "
      ]
     },
     "execution_count": 98,
     "metadata": {},
     "output_type": "execute_result"
    }
   ],
   "source": [
    "# Converte informações na coluna smoking_history\n",
    "tabela['smoking_history'] = tabela['smoking_history'].map({'never': 0, 'former': 1, 'current': 2, 'not current': 3})\n",
    "tabela.head()"
   ]
  },
  {
   "cell_type": "code",
   "execution_count": 99,
   "id": "358cf792-ea39-48e1-b523-bb2d4da2ba9a",
   "metadata": {},
   "outputs": [
    {
     "data": {
      "text/plain": [
       "np.int64(39820)"
      ]
     },
     "execution_count": 99,
     "metadata": {},
     "output_type": "execute_result"
    }
   ],
   "source": [
    "# Conta ocorrencias de NaN na coluna smoking_history\n",
    "tabela['smoking_history'].isna().sum()"
   ]
  },
  {
   "cell_type": "markdown",
   "id": "a73aff06-04d7-49ab-96d2-a97a4f57bcff",
   "metadata": {},
   "source": [
    "Como existem 39820 células sem informação na coluna 'smoking_history', não podemos simplesmente ignorar tais linhas, seria uma perda expressiva de nossa base de dados."
   ]
  },
  {
   "cell_type": "code",
   "execution_count": 100,
   "id": "c791cff8-8db7-43b3-99dd-0c0c6465f5ac",
   "metadata": {},
   "outputs": [
    {
     "data": {
      "text/plain": [
       "np.int64(18)"
      ]
     },
     "execution_count": 100,
     "metadata": {},
     "output_type": "execute_result"
    }
   ],
   "source": [
    "tabela['gender'].isna().sum()"
   ]
  },
  {
   "cell_type": "markdown",
   "id": "63aff9c6-b8f1-4c3b-8cc0-a9ad17c7ec75",
   "metadata": {},
   "source": [
    "Na coluna 'gender' por outro lado, existem apenas 18 linhas não preenchidas e portanto, seu descarte não apresenta um impacto consideravel."
   ]
  },
  {
   "cell_type": "code",
   "execution_count": 101,
   "id": "20453e96-01f5-40f4-a890-53b3d0abb843",
   "metadata": {},
   "outputs": [
    {
     "data": {
      "text/plain": [
       "np.int64(0)"
      ]
     },
     "execution_count": 101,
     "metadata": {},
     "output_type": "execute_result"
    }
   ],
   "source": [
    "tabela = tabela[~tabela['gender'].isna()]\n",
    "tabela['gender'].isna().sum()"
   ]
  },
  {
   "cell_type": "markdown",
   "id": "b7502d40-2fc9-43f1-ba47-961013ae9ec9",
   "metadata": {},
   "source": [
    "Voltando à coluna 'smoking_history', as informações contidas nessa coluna são de extrema relevância para o treinamento do modelo, visto que, o histórico em tabagismo aumenta as chances de desenvolver diabetes tipo 2. Portanto, a coluna não pode ser descartada por inteiro. Além disso, existem muitos valores não preenchidos, descartar tais linhas geraria uma enorme perda em nossos dados. Nos resta então apenas uma opção: preencher os dados ausentes da coluna.\n",
    "\n",
    "A estratégia de preenchimento adotada será a utilização da média de todos os valores existentes na coluna."
   ]
  },
  {
   "cell_type": "code",
   "execution_count": 102,
   "id": "08848e92-958c-4239-90a3-031534647ccb",
   "metadata": {},
   "outputs": [
    {
     "data": {
      "text/plain": [
       "np.int64(0)"
      ]
     },
     "execution_count": 102,
     "metadata": {},
     "output_type": "execute_result"
    }
   ],
   "source": [
    "media_tabagismo = tabela['smoking_history'].mean()\n",
    "tabela['smoking_history'] = tabela['smoking_history'].fillna(media_tabagismo)\n",
    "tabela['smoking_history'].isna().sum()"
   ]
  },
  {
   "cell_type": "code",
   "execution_count": 103,
   "id": "82f6de46-be55-4eea-9b76-8acfbc80a6d3",
   "metadata": {},
   "outputs": [],
   "source": [
    "def initialize_parameters(n_x, n_h, n_y):\n",
    "    \"\"\"\n",
    "    Argument:\n",
    "    n_x -- size of the input layer\n",
    "    n_h -- size of the hidden layer\n",
    "    n_y -- size of the output layer\n",
    "\n",
    "    Returns:\n",
    "    params -- python dictionary containing your parameters:\n",
    "                    W1 -- weight matrix of shape (n_h, n_x)\n",
    "                    b1 -- bias vector of shape (n_h, 1)\n",
    "                    W2 -- weight matrix of shape (n_y, n_h)\n",
    "                    b2 -- bias vector of shape (n_y, 1)\n",
    "    \"\"\"\n",
    "\n",
    "    np.random.seed()\n",
    "\n",
    "    W1 = np.random.randn(n_h, n_x) * 0.001\n",
    "    b1 = np.zeros((n_h, 1))\n",
    "    W2 = np.random.randn(n_y, n_h) * 0.001\n",
    "    b2 = np.zeros((n_y, 1))\n",
    "\n",
    "    assert (W1.shape == (n_h, n_x))\n",
    "    assert (b1.shape == (n_h, 1))\n",
    "    assert (W2.shape == (n_y, n_h))\n",
    "    assert (b2.shape == (n_y, 1))\n",
    "\n",
    "    parameters = {\"W1\": W1,\n",
    "                  \"b1\": b1,\n",
    "                  \"W2\": W2,\n",
    "                  \"b2\": b2}\n",
    "\n",
    "    return parameters"
   ]
  },
  {
   "cell_type": "code",
   "execution_count": 104,
   "id": "3361d446-9e17-446e-b3bc-c6cf0158b4e0",
   "metadata": {},
   "outputs": [],
   "source": [
    "def feed_forward(X, parameters):\n",
    "    \"\"\"\n",
    "    Argument:\n",
    "    X -- dados de input de tamanho  (n_x, m)\n",
    "    parameters -- Dicionario python com nossos parametros (saída da função de inicialização)\n",
    "\n",
    "    Returns:\n",
    "    A2 -- A saída sigmóide da segunda ativação\n",
    "    cache -- um dicionário contendo \"Z1\", \"A1\", \"Z2\" e \"A2\"\n",
    "    \"\"\"\n",
    "\n",
    "    Z1 = np.dot(parameters[\"W1\"], X) + parameters[\"b1\"]\n",
    "    A1 = np.tanh(Z1)\n",
    "    Z2 = np.dot(parameters[\"W2\"], A1) + parameters[\"b2\"]\n",
    "    A2 = sigmoid(Z2)\n",
    "\n",
    "    assert (A2.shape == (1, X.shape[1]))\n",
    "\n",
    "    cache = {\"Z1\": Z1,\n",
    "             \"A1\": A1,\n",
    "             \"Z2\": Z2,\n",
    "             \"A2\": A2}\n",
    "\n",
    "    return A2, cache"
   ]
  },
  {
   "cell_type": "code",
   "execution_count": 118,
   "id": "73ca35d6-b81a-45af-b952-b1c940bfb8de",
   "metadata": {},
   "outputs": [],
   "source": [
    "def compute_cost(A2, Y, parameters):\n",
    "    \"\"\"\n",
    "    Calcula o custo de entropia cruzada dado na equação (13)\n",
    "\n",
    "    Arguments:\n",
    "    A2 - A saída sigmóide da segunda ativação, de formato (1, número de observações)\n",
    "    Y - vetor de forma de rótulos \"verdadeiros\" (1, número de observações)\n",
    "    parâmetros - dicionário python contendo seus parâmetros W1, b1, W2 e b2\n",
    "\n",
    "    Returns:\n",
    "    cost -- custo de entropia cruzada dada a equação (13)\n",
    "    \"\"\"\n",
    "\n",
    "    m = Y.shape[1]\n",
    "\n",
    "    logprobs = np.multiply(np.log(A2), Y)\n",
    "    cost = - np.sum(logprobs)\n",
    "\n",
    "    cost = np.squeeze(cost)\n",
    "    assert (isinstance(cost, float))\n",
    "\n",
    "    return cost"
   ]
  },
  {
   "cell_type": "code",
   "execution_count": 106,
   "id": "0133cb47-f82e-41dd-9c53-1f631e1151a0",
   "metadata": {},
   "outputs": [],
   "source": [
    "def backward_propagation(parameters, cache, X, Y):\n",
    "    \"\"\"\n",
    "    Implemente a backward propagation usando as instruções acima.\n",
    "\n",
    "    Arguments:\n",
    "     parameters - dicionário python contendo os parâmetros\n",
    "     cache -- um dicionário contendo \"Z1\", \"A1\", \"Z2\" e \"A2\".\n",
    "     X – dados de entrada da forma (2, número de observações)\n",
    "     Y - vetor de forma de rótulos \"verdadeiros\" (1, número de observações)\n",
    "\n",
    "    Returns:\n",
    "    grads -- dicionário python contendo seus gradientes em relação a diferentes parâmetros\n",
    "    \"\"\"\n",
    "    m = X.shape[1]\n",
    "\n",
    "    dZ2 = cache[\"A2\"] - Y\n",
    "    dW2 = (1 / m) * np.dot(dZ2, cache[\"A1\"].T)\n",
    "    db2 = (1 / m) * np.sum(dZ2, axis=1, keepdims=True)\n",
    "    dZ1 = np.dot(parameters[\"W2\"].T, dZ2) * (1 - np.power(cache[\"A1\"], 2))\n",
    "    dW1 = (1 / m) * np.dot(dZ1, X.T)\n",
    "    db1 = (1 / m) * np.sum(dZ1, axis=1, keepdims=True)\n",
    "\n",
    "    grads = {\"dW1\": dW1,\n",
    "             \"db1\": db1,\n",
    "             \"dW2\": dW2,\n",
    "             \"db2\": db2}\n",
    "\n",
    "    return grads"
   ]
  },
  {
   "cell_type": "code",
   "execution_count": 107,
   "id": "27eeeac6-6dc4-4239-92d2-2c29a6067a78",
   "metadata": {},
   "outputs": [],
   "source": [
    "def layer_sizes(X, Y):\n",
    "    \"\"\"\n",
    "    Arguments:\n",
    "    X – conjunto de dados de entrada de forma (tamanho de entrada, número de observações)\n",
    "    Y – rótulos de forma (tamanho de saída, número de observações)\n",
    "\n",
    "    Returns:\n",
    "    n_x – o tamanho da camada de entrada\n",
    "    n_h – o tamanho da camada oculta\n",
    "    n_y – o tamanho da camada de saída\n",
    "    \"\"\"\n",
    "    n_x = X.shape[0]\n",
    "    n_h = 4\n",
    "    n_y = Y.shape[0]\n",
    "    return (n_x, n_h, n_y)"
   ]
  },
  {
   "cell_type": "code",
   "execution_count": 108,
   "id": "f63c7c89-0bc1-416b-a141-f875ae84442a",
   "metadata": {},
   "outputs": [],
   "source": [
    "def update_parameters(parameters, grads, learning_rate=1.2):\n",
    "    \"\"\"\n",
    "    Atualiza os parâmetros usando a regra de atualização de gradiente descendente\n",
    "\n",
    "    Arguments:\n",
    "    parameters – dicionário python contendo seus parâmetros\n",
    "    grads – dicionário python contendo seus gradientes\n",
    "\n",
    "    Returns:\n",
    "    parameters – dicionário python contendo seus parâmetros atualizados\n",
    "    \"\"\"\n",
    "    W1 = parameters['W1']\n",
    "    b1 = parameters['b1']\n",
    "    W2 = parameters['W2']\n",
    "    b2 = parameters['b2']\n",
    "\n",
    "    W1 = W1 - (learning_rate * grads[\"dW1\"])\n",
    "    b1 = b1 - (learning_rate * grads[\"db1\"])\n",
    "    W2 = W2 - (learning_rate * grads[\"dW2\"])\n",
    "    b2 = b2 - (learning_rate * grads[\"db2\"])\n",
    "\n",
    "    parameters = {\"W1\": W1,\n",
    "                  \"b1\": b1,\n",
    "                  \"W2\": W2,\n",
    "                  \"b2\": b2}\n",
    "\n",
    "    return parameters"
   ]
  },
  {
   "cell_type": "code",
   "execution_count": 109,
   "id": "4ee3c4de-a6ae-4ef8-99bd-67325033d7d0",
   "metadata": {},
   "outputs": [],
   "source": [
    "def sigmoid(x):\n",
    "    \"\"\"\n",
    "    Calcular o sigmóide de x\n",
    "\n",
    "    Arguments:\n",
    "    x -- Uma matriz escalar ou numpy de qualquer tamanho.\n",
    "\n",
    "    Return:\n",
    "    s -- sigmoid(x)\n",
    "    \"\"\"\n",
    "    s = 1/(1+np.exp(-x))\n",
    "    return s"
   ]
  },
  {
   "cell_type": "code",
   "execution_count": 128,
   "id": "37aa1fc7-4485-4553-9f4c-c2f10857a096",
   "metadata": {},
   "outputs": [],
   "source": [
    "def nn_model(X, Y, n_h, num_iterations=10000, print_cost=False):\n",
    "    \"\"\"\n",
    "    Arguments:\n",
    "    X - conjunto de dados de forma (categorias, número de observações)\n",
    "    Y - rótulos de forma (1, número de observações)\n",
    "    n_h – tamanho da camada oculta\n",
    "    num_iterations -- Número de iterações no loop de descida gradiente\n",
    "    print_cost -- se True, imprime o custo a cada 1000 iterações\n",
    "\n",
    "    Returns:\n",
    "    parameters -- parâmetros aprendidos pelo modelo. Eles podem então ser usados para prever.\n",
    "    \"\"\"\n",
    "\n",
    "    np.random.seed()\n",
    "    n_x = layer_sizes(X, Y)[0]\n",
    "    n_y = layer_sizes(X, Y)[2]\n",
    "\n",
    "    parameters = initialize_parameters(n_x, n_h, n_y)\n",
    "    W1 = parameters['W1']\n",
    "    b1 = parameters['b1']\n",
    "    W2 = parameters['W2']\n",
    "    b2 = parameters['b2']\n",
    "\n",
    "    for i in range(0, num_iterations):\n",
    "        A2, cache = feed_forward(X, parameters)\n",
    "\n",
    "        cost = compute_cost(A2, Y, parameters)\n",
    "\n",
    "        grads = backward_propagation(parameters, cache, X, Y)\n",
    "\n",
    "        parameters = update_parameters(parameters, grads, learning_rate=1.2)\n",
    "\n",
    "        if print_cost and i % 1000 == 0:\n",
    "            print(\"Custo após a interação %i: %f\" % (i, cost))\n",
    "\n",
    "    return parameters"
   ]
  },
  {
   "cell_type": "code",
   "execution_count": 113,
   "id": "20efe097-ffb3-4bbd-947d-8acc191a6d93",
   "metadata": {},
   "outputs": [
    {
     "name": "stdout",
     "output_type": "stream",
     "text": [
      "(8, 99982)\n",
      "(1, 99982)\n"
     ]
    }
   ],
   "source": [
    "# Separa variáveis independentes e dependentes da tabela\n",
    "Y = tabela['diabetes'].to_frame().to_numpy().T\n",
    "X = tabela.drop(columns='diabetes').to_numpy().T\n",
    "print(X.shape)\n",
    "print(Y.shape)"
   ]
  },
  {
   "cell_type": "code",
   "execution_count": 129,
   "id": "99640503-43d7-46a3-a953-16cea8e9a2cb",
   "metadata": {},
   "outputs": [
    {
     "name": "stdout",
     "output_type": "stream",
     "text": [
      "Custo após a interação 0: 5892.106135\n",
      "Custo após a interação 1000: 20951.857145\n",
      "W1 = [[-8.76707304e-04 -1.27093110e-01 -1.03069479e-03  9.99177816e-04\n",
      "  -1.29965190e-03 -9.15211070e-02 -1.76664397e-02 -3.81080847e-01]\n",
      " [ 1.57822002e-05  2.02040472e-02 -1.63376529e-03  1.62146882e-03\n",
      "  -5.57654784e-04  1.80854870e-02  3.30330965e-03  6.94273387e-02]\n",
      " [-1.21583797e-04  6.81584357e-02 -8.28142725e-04  1.73798464e-04\n",
      "   2.34316817e-03  4.84149356e-02  9.60378164e-03  2.08796205e-01]\n",
      " [ 1.22819665e-03  2.03913395e-02  1.91468536e-05  1.65574798e-04\n",
      "   8.75051823e-04  1.63405327e-02  2.71252332e-03  6.92724647e-02]]\n",
      "b1 = [[-0.00339286]\n",
      " [ 0.00067869]\n",
      " [ 0.00185228]\n",
      " [ 0.00070944]]\n",
      "W2 = [[ 0.01009931 -0.66685769  0.00674351 -0.60213728]]\n",
      "b2 = [[-1.1037257]]\n"
     ]
    }
   ],
   "source": [
    "parameters = nn_model(X, Y, 4, num_iterations=1001, print_cost=True)\n",
    "print(\"W1 = \" + str(parameters[\"W1\"]))\n",
    "print(\"b1 = \" + str(parameters[\"b1\"]))\n",
    "print(\"W2 = \" + str(parameters[\"W2\"]))\n",
    "print(\"b2 = \" + str(parameters[\"b2\"]))"
   ]
  },
  {
   "cell_type": "code",
   "execution_count": null,
   "id": "24606349-d7e3-4f0b-a375-f666b0fb3e93",
   "metadata": {},
   "outputs": [],
   "source": []
  }
 ],
 "metadata": {
  "kernelspec": {
   "display_name": "Python 3 (ipykernel)",
   "language": "python",
   "name": "python3"
  },
  "language_info": {
   "codemirror_mode": {
    "name": "ipython",
    "version": 3
   },
   "file_extension": ".py",
   "mimetype": "text/x-python",
   "name": "python",
   "nbconvert_exporter": "python",
   "pygments_lexer": "ipython3",
   "version": "3.11.2"
  }
 },
 "nbformat": 4,
 "nbformat_minor": 5
}
